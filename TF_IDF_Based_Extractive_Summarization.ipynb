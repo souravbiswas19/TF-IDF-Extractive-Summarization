{
  "nbformat": 4,
  "nbformat_minor": 0,
  "metadata": {
    "colab": {
      "provenance": []
    },
    "kernelspec": {
      "name": "python3",
      "display_name": "Python 3"
    },
    "language_info": {
      "name": "python"
    }
  },
  "cells": [
    {
      "cell_type": "code",
      "execution_count": 10,
      "metadata": {
        "id": "eph0hPqbj1yU"
      },
      "outputs": [],
      "source": [
        "# Read the text from the file\n",
        "file_path = \"Task2.txt\"\n",
        "with open(file_path, \"r\", encoding=\"utf-8\") as file:\n",
        "    text = file.read()"
      ]
    },
    {
      "cell_type": "code",
      "source": [
        "import re\n",
        "\n",
        "# Remove specified words and new line feeds\n",
        "filtered_text = re.sub(r'\\b(?:Introduction|Summary|Key Points|Conclusion|:|)\\b', '', text)\n",
        "filtered_text = re.sub(r'\\n', ' ', filtered_text)\n",
        "\n",
        "text = filtered_text"
      ],
      "metadata": {
        "id": "laeJMBADkeYR"
      },
      "execution_count": 11,
      "outputs": []
    },
    {
      "cell_type": "code",
      "source": [
        "from sklearn.feature_extraction.text import TfidfVectorizer\n",
        "from sklearn.metrics.pairwise import cosine_similarity\n",
        "import numpy as np"
      ],
      "metadata": {
        "id": "fVAjKXgZkiL_"
      },
      "execution_count": 12,
      "outputs": []
    },
    {
      "cell_type": "code",
      "source": [
        "def count_sentences(text):\n",
        "    # Tokenize the text into sentences\n",
        "    sentences = [sentence.strip() for sentence in text.split('.') if sentence.strip()]\n",
        "    return len(sentences)"
      ],
      "metadata": {
        "id": "qK1VUYWhknXt"
      },
      "execution_count": 13,
      "outputs": []
    },
    {
      "cell_type": "code",
      "source": [
        "\n",
        "def tfidf_summarization(long_text, num_sentences):\n",
        "    # Tokenize the text into sentences\n",
        "    sentences = [sentence.strip() for sentence in long_text.split('.') if sentence.strip()]\n",
        "\n",
        "    # TF-IDF Vectorization\n",
        "    vectorizer = TfidfVectorizer()\n",
        "    tfidf_matrix = vectorizer.fit_transform(sentences)\n",
        "\n",
        "    # Calculate cosine similarity between sentences\n",
        "    similarity_matrix = cosine_similarity(tfidf_matrix, tfidf_matrix)\n",
        "\n",
        "    # Create a summary based on the most important sentences\n",
        "    sentence_scores = np.sum(similarity_matrix, axis=1)\n",
        "    ranked_sentences = [sentence for _, sentence in sorted(enumerate(sentences), key=lambda x: sentence_scores[x[0]], reverse=True)]\n",
        "\n",
        "    # Generate the summary\n",
        "    summary = '. '.join(ranked_sentences[:num_sentences]) + '.'\n",
        "\n",
        "    return summary"
      ],
      "metadata": {
        "id": "-LEqo6nQkrd-"
      },
      "execution_count": 14,
      "outputs": []
    },
    {
      "cell_type": "code",
      "source": [
        "num_sentences=int(count_sentences(text)/3)\n",
        "# Perform TF-IDF Summarization\n",
        "summary = tfidf_summarization(text, num_sentences)\n",
        "\n",
        "# Print the original long text and the generated summary\n",
        "print(\"Original Long Text:\")\n",
        "print(text)\n",
        "\n",
        "print(\"\\nTF-IDF Summary:\")\n",
        "print(summary)"
      ],
      "metadata": {
        "colab": {
          "base_uri": "https://localhost:8080/"
        },
        "id": "OTIgC3hBkvZ2",
        "outputId": "def67975-6ed9-4f8b-f2c1-6fcb7ba538db"
      },
      "execution_count": 15,
      "outputs": [
        {
          "output_type": "stream",
          "name": "stdout",
          "text": [
            "Original Long Text:\n",
            ": Judgment on Complaint under Section 138 of the Negotiable Instruments Act  This text discusses a judgment from the Supreme Court of India regarding a complaint filed under Section 138 of the Negotiable Instruments Act. The case involves a dispute over a cheque issued by the respondent, which was returned due to insufficient funds. The Trial Court initially dismissed the complaint, but the Supreme Court upheld it, finding that the cheque was indeed issued by the respondent.  The complaint was dismissed initially due to contradictions in the evidence regarding the number of apple cartons and the amount owed. The High Court established that a cheque carries a presumption of consideration unless proven otherwise. The burden of proof is on the accused to rebut the presumption of consideration by providing evidence or circumstances to show that no debt existed. The court discusses the presumption of debt or liability under Section 139 of the Act and states that it may fail if the accused raises a probable defense. The court emphasizes that the presumption under Section 139 is a device to prevent undue delay in litigation and that dishonoring a check is largely a civil wrong. The respondent in this case failed to provide any evidence to rebut the presumption of consideration in issuing the cheque. The courts below were criticized for dismissing the complaint based on discrepancies in the determination of the amount due. The respondent is held guilty of dishonoring the cheque and is ordered to pay a fine and costs.  In conclusion, the Supreme Court of India upheld a complaint filed under Section 138 of the Negotiable Instruments Act. The court found that the cheque was issued by the respondent and criticized the lower courts for dismissing the complaint based on discrepancies in the evidence. The court emphasized the presumption of consideration under Section 139 and held the respondent guilty of dishonoring the cheque. The respondent was ordered to pay a fine and costs.\n",
            "\n",
            "TF-IDF Summary:\n",
            "The court emphasized the presumption of consideration under Section 139 and held the respondent guilty of dishonoring the cheque. The court found that the cheque was issued by the respondent and criticized the lower courts for dismissing the complaint based on discrepancies in the evidence. The Trial Court initially dismissed the complaint, but the Supreme Court upheld it, finding that the cheque was indeed issued by the respondent. The respondent is held guilty of dishonoring the cheque and is ordered to pay a fine and costs. The complaint was dismissed initially due to contradictions in the evidence regarding the number of apple cartons and the amount owed.\n"
          ]
        }
      ]
    },
    {
      "cell_type": "code",
      "source": [
        "!pip install gtts"
      ],
      "metadata": {
        "colab": {
          "base_uri": "https://localhost:8080/"
        },
        "id": "Gq-lX_LqlXKt",
        "outputId": "891aa1b8-7863-4e27-f724-b92efcbf15a7"
      },
      "execution_count": 16,
      "outputs": [
        {
          "output_type": "stream",
          "name": "stdout",
          "text": [
            "Requirement already satisfied: gtts in /usr/local/lib/python3.10/dist-packages (2.5.1)\n",
            "Requirement already satisfied: requests<3,>=2.27 in /usr/local/lib/python3.10/dist-packages (from gtts) (2.31.0)\n",
            "Requirement already satisfied: click<8.2,>=7.1 in /usr/local/lib/python3.10/dist-packages (from gtts) (8.1.7)\n",
            "Requirement already satisfied: charset-normalizer<4,>=2 in /usr/local/lib/python3.10/dist-packages (from requests<3,>=2.27->gtts) (3.3.2)\n",
            "Requirement already satisfied: idna<4,>=2.5 in /usr/local/lib/python3.10/dist-packages (from requests<3,>=2.27->gtts) (3.6)\n",
            "Requirement already satisfied: urllib3<3,>=1.21.1 in /usr/local/lib/python3.10/dist-packages (from requests<3,>=2.27->gtts) (2.0.7)\n",
            "Requirement already satisfied: certifi>=2017.4.17 in /usr/local/lib/python3.10/dist-packages (from requests<3,>=2.27->gtts) (2023.11.17)\n"
          ]
        }
      ]
    },
    {
      "cell_type": "code",
      "source": [
        "from gtts import gTTS\n",
        "import os\n",
        "\n",
        "# Text to be converted to speech\n",
        "text_audio = \"The summary of the input document is that \"+summary\n",
        "\n",
        "# Language in which you want to convert\n",
        "language = 'en'\n",
        "\n",
        "# Slow down the speed of speech (optional)\n",
        "speed = 1\n",
        "\n",
        "# Provide the text and language to the engine\n",
        "tts = gTTS(text=text_audio, lang=language, slow=speed)\n",
        "\n",
        "# Save the converted speech to a file\n",
        "tts.save(\"output.mp3\")\n"
      ],
      "metadata": {
        "id": "l4sCbdzblF6x"
      },
      "execution_count": 17,
      "outputs": []
    },
    {
      "cell_type": "code",
      "source": [],
      "metadata": {
        "id": "mzREfxg4lbVG"
      },
      "execution_count": null,
      "outputs": []
    }
  ]
}